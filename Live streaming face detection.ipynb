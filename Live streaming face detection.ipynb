{
 "cells": [
  {
   "cell_type": "code",
   "execution_count": 19,
   "metadata": {},
   "outputs": [],
   "source": [
    "import cv2\n",
    "import time\n",
    "cap=cv2.VideoCapture(0)\n",
    "face_classifier = cv2.CascadeClassifier('haarcascade_frontalface_default.xml')"
   ]
  },
  {
   "cell_type": "code",
   "execution_count": 20,
   "metadata": {},
   "outputs": [],
   "source": [
    "while True:\n",
    "    count=0\n",
    "    status,photo=cap.read()\n",
    "    faces=face_classifier.detectMultiScale(photo)\n",
    "    photo=cv2.flip(photo,1)\n",
    "    if faces is ():\n",
    "        continue\n",
    "    for (x,y,w,h) in faces:        \n",
    "        cv2.rectangle(photo, (x,y), (x+w,y+h), [0,0,255],5)\n",
    "        resize_photo=cv2.resize(photo[100:-100,100:-100],(150,150))\n",
    "        photo[200:350,50:200]=resize_photo\n",
    "        count+=1\n",
    "    count *=2\n",
    "    cv2.putText(photo, str(count), (350, 400), cv2.FONT_HERSHEY_COMPLEX, 2, (0,0,255), 5)\n",
    "    cv2.imshow(\"hi\",photo)\n",
    "    if cv2.waitKey(10)==13:\n",
    "        break\n",
    "cv2.destroyAllWindows()\n",
    "cap.release()"
   ]
  },
  {
   "cell_type": "code",
   "execution_count": null,
   "metadata": {},
   "outputs": [],
   "source": []
  }
 ],
 "metadata": {
  "kernelspec": {
   "display_name": "Python 3",
   "language": "python",
   "name": "python3"
  },
  "language_info": {
   "codemirror_mode": {
    "name": "ipython",
    "version": 3
   },
   "file_extension": ".py",
   "mimetype": "text/x-python",
   "name": "python",
   "nbconvert_exporter": "python",
   "pygments_lexer": "ipython3",
   "version": "3.7.3"
  }
 },
 "nbformat": 4,
 "nbformat_minor": 4
}
