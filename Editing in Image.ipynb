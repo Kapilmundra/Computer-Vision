{
 "cells": [
  {
   "cell_type": "markdown",
   "metadata": {},
   "source": [
    "# Editing Image"
   ]
  },
  {
   "cell_type": "code",
   "execution_count": 1,
   "metadata": {},
   "outputs": [],
   "source": [
    "import cv2\n",
    "import numpy as np"
   ]
  },
  {
   "cell_type": "markdown",
   "metadata": {},
   "source": [
    "# Resize image"
   ]
  },
  {
   "cell_type": "code",
   "execution_count": 2,
   "metadata": {},
   "outputs": [],
   "source": [
    "photo=cv2.imread(\"photo.jpg\")\n",
    "resize_photo=cv2.resize(photo, (int(photo.shape[1]/4),int(photo.shape[0]/4)))\n",
    "cv2.imshow(\"hi\",resize_photo)\n",
    "cv2.waitKey(0)\n",
    "cv2.destroyAllWindows()"
   ]
  },
  {
   "cell_type": "markdown",
   "metadata": {},
   "source": [
    "# use split and merge"
   ]
  },
  {
   "cell_type": "code",
   "execution_count": 3,
   "metadata": {},
   "outputs": [
    {
     "data": {
      "text/plain": [
       "array([[[141, 179, 236],\n",
       "        [145, 202, 241],\n",
       "        [144, 195, 239],\n",
       "        ...,\n",
       "        [213, 241, 228],\n",
       "        [215, 241, 228],\n",
       "        [217, 241, 226]],\n",
       "\n",
       "       [[161, 200, 244],\n",
       "        [165, 216, 249],\n",
       "        [160, 218, 237],\n",
       "        ...,\n",
       "        [215, 240, 228],\n",
       "        [215, 240, 229],\n",
       "        [216, 240, 230]],\n",
       "\n",
       "       [[206, 240, 234],\n",
       "        [193, 233, 242],\n",
       "        [163, 209, 252],\n",
       "        ...,\n",
       "        [217, 239, 226],\n",
       "        [216, 240, 229],\n",
       "        [214, 240, 230]],\n",
       "\n",
       "       ...,\n",
       "\n",
       "       [[ 65,  35,  94],\n",
       "        [ 68,  39,  96],\n",
       "        [ 74,  44, 101],\n",
       "        ...,\n",
       "        [146, 187, 198],\n",
       "        [124, 169, 180],\n",
       "        [135, 181, 192]],\n",
       "\n",
       "       [[ 71,  48, 103],\n",
       "        [ 68,  47, 105],\n",
       "        [ 67,  47, 107],\n",
       "        ...,\n",
       "        [148, 191, 196],\n",
       "        [141, 187, 198],\n",
       "        [127, 173, 188]],\n",
       "\n",
       "       [[ 70,  45, 111],\n",
       "        [ 63,  44, 109],\n",
       "        [ 62,  46, 108],\n",
       "        ...,\n",
       "        [147, 191, 192],\n",
       "        [141, 184, 192],\n",
       "        [108, 150, 167]]], dtype=uint8)"
      ]
     },
     "execution_count": 3,
     "metadata": {},
     "output_type": "execute_result"
    }
   ],
   "source": [
    "photo=cv2.imread(\"photo.jpg\")\n",
    "resize_photo=cv2.resize(photo, (int(photo.shape[1]/4),int(photo.shape[0]/4)))\n",
    "resize_photo"
   ]
  },
  {
   "cell_type": "code",
   "execution_count": 4,
   "metadata": {},
   "outputs": [],
   "source": [
    "B,G,R=cv2.split(resize_photo)"
   ]
  },
  {
   "cell_type": "code",
   "execution_count": 5,
   "metadata": {},
   "outputs": [
    {
     "data": {
      "text/plain": [
       "array([[141, 145, 144, ..., 213, 215, 217],\n",
       "       [161, 165, 160, ..., 215, 215, 216],\n",
       "       [206, 193, 163, ..., 217, 216, 214],\n",
       "       ...,\n",
       "       [ 65,  68,  74, ..., 146, 124, 135],\n",
       "       [ 71,  68,  67, ..., 148, 141, 127],\n",
       "       [ 70,  63,  62, ..., 147, 141, 108]], dtype=uint8)"
      ]
     },
     "execution_count": 5,
     "metadata": {},
     "output_type": "execute_result"
    }
   ],
   "source": [
    "B"
   ]
  },
  {
   "cell_type": "code",
   "execution_count": 6,
   "metadata": {},
   "outputs": [
    {
     "data": {
      "text/plain": [
       "array([[179, 202, 195, ..., 241, 241, 241],\n",
       "       [200, 216, 218, ..., 240, 240, 240],\n",
       "       [240, 233, 209, ..., 239, 240, 240],\n",
       "       ...,\n",
       "       [ 35,  39,  44, ..., 187, 169, 181],\n",
       "       [ 48,  47,  47, ..., 191, 187, 173],\n",
       "       [ 45,  44,  46, ..., 191, 184, 150]], dtype=uint8)"
      ]
     },
     "execution_count": 6,
     "metadata": {},
     "output_type": "execute_result"
    }
   ],
   "source": [
    "G"
   ]
  },
  {
   "cell_type": "code",
   "execution_count": 7,
   "metadata": {},
   "outputs": [
    {
     "data": {
      "text/plain": [
       "array([[236, 241, 239, ..., 228, 228, 226],\n",
       "       [244, 249, 237, ..., 228, 229, 230],\n",
       "       [234, 242, 252, ..., 226, 229, 230],\n",
       "       ...,\n",
       "       [ 94,  96, 101, ..., 198, 180, 192],\n",
       "       [103, 105, 107, ..., 196, 198, 188],\n",
       "       [111, 109, 108, ..., 192, 192, 167]], dtype=uint8)"
      ]
     },
     "execution_count": 7,
     "metadata": {},
     "output_type": "execute_result"
    }
   ],
   "source": [
    "R"
   ]
  },
  {
   "cell_type": "code",
   "execution_count": 8,
   "metadata": {},
   "outputs": [
    {
     "data": {
      "text/plain": [
       "(480, 402)"
      ]
     },
     "execution_count": 8,
     "metadata": {},
     "output_type": "execute_result"
    }
   ],
   "source": [
    "# Removing the red color from photo\n",
    "R.shape"
   ]
  },
  {
   "cell_type": "code",
   "execution_count": 9,
   "metadata": {},
   "outputs": [],
   "source": [
    "R[:,:]=0"
   ]
  },
  {
   "cell_type": "code",
   "execution_count": 10,
   "metadata": {},
   "outputs": [
    {
     "data": {
      "text/plain": [
       "array([[0, 0, 0, ..., 0, 0, 0],\n",
       "       [0, 0, 0, ..., 0, 0, 0],\n",
       "       [0, 0, 0, ..., 0, 0, 0],\n",
       "       ...,\n",
       "       [0, 0, 0, ..., 0, 0, 0],\n",
       "       [0, 0, 0, ..., 0, 0, 0],\n",
       "       [0, 0, 0, ..., 0, 0, 0]], dtype=uint8)"
      ]
     },
     "execution_count": 10,
     "metadata": {},
     "output_type": "execute_result"
    }
   ],
   "source": [
    "R"
   ]
  },
  {
   "cell_type": "code",
   "execution_count": 11,
   "metadata": {},
   "outputs": [],
   "source": [
    "newphoto=cv2.merge([B,G,R])"
   ]
  },
  {
   "cell_type": "code",
   "execution_count": 12,
   "metadata": {},
   "outputs": [],
   "source": [
    "cv2.imshow(\"hi\",newphoto)\n",
    "cv2.waitKey(0)\n",
    "cv2.destroyAllWindows()"
   ]
  },
  {
   "cell_type": "code",
   "execution_count": 13,
   "metadata": {},
   "outputs": [],
   "source": [
    "# second way"
   ]
  },
  {
   "cell_type": "code",
   "execution_count": 14,
   "metadata": {},
   "outputs": [],
   "source": [
    "photo=cv2.imread(\"photo.jpg\")\n",
    "resize_photo=cv2.resize(photo, (int(photo.shape[1]/4),int(photo.shape[0]/4)))\n",
    "B,G,R=cv2.split(resize_photo)"
   ]
  },
  {
   "cell_type": "code",
   "execution_count": 15,
   "metadata": {},
   "outputs": [
    {
     "data": {
      "text/plain": [
       "(480, 402)"
      ]
     },
     "execution_count": 15,
     "metadata": {},
     "output_type": "execute_result"
    }
   ],
   "source": [
    "R.shape"
   ]
  },
  {
   "cell_type": "code",
   "execution_count": 16,
   "metadata": {},
   "outputs": [
    {
     "data": {
      "text/plain": [
       "dtype('uint8')"
      ]
     },
     "execution_count": 16,
     "metadata": {},
     "output_type": "execute_result"
    }
   ],
   "source": [
    "R.dtype"
   ]
  },
  {
   "cell_type": "code",
   "execution_count": 17,
   "metadata": {},
   "outputs": [],
   "source": [
    "zeros=np.zeros((480,402))"
   ]
  },
  {
   "cell_type": "code",
   "execution_count": 18,
   "metadata": {},
   "outputs": [],
   "source": [
    "zeros=zeros.astype('uint8') # it changes the dtype of zeros variable"
   ]
  },
  {
   "cell_type": "code",
   "execution_count": 19,
   "metadata": {},
   "outputs": [
    {
     "data": {
      "text/plain": [
       "array([[0, 0, 0, ..., 0, 0, 0],\n",
       "       [0, 0, 0, ..., 0, 0, 0],\n",
       "       [0, 0, 0, ..., 0, 0, 0],\n",
       "       ...,\n",
       "       [0, 0, 0, ..., 0, 0, 0],\n",
       "       [0, 0, 0, ..., 0, 0, 0],\n",
       "       [0, 0, 0, ..., 0, 0, 0]], dtype=uint8)"
      ]
     },
     "execution_count": 19,
     "metadata": {},
     "output_type": "execute_result"
    }
   ],
   "source": [
    "zeros"
   ]
  },
  {
   "cell_type": "code",
   "execution_count": 20,
   "metadata": {},
   "outputs": [],
   "source": [
    "newphoto=cv2.merge([B,G,zeros])"
   ]
  },
  {
   "cell_type": "code",
   "execution_count": 21,
   "metadata": {},
   "outputs": [],
   "source": [
    "cv2.imshow(\"hi\",newphoto)\n",
    "cv2.waitKey(0)\n",
    "cv2.destroyAllWindows()"
   ]
  },
  {
   "cell_type": "code",
   "execution_count": 22,
   "metadata": {},
   "outputs": [],
   "source": [
    "# Third way"
   ]
  },
  {
   "cell_type": "code",
   "execution_count": 23,
   "metadata": {},
   "outputs": [
    {
     "data": {
      "text/plain": [
       "(480, 402, 3)"
      ]
     },
     "execution_count": 23,
     "metadata": {},
     "output_type": "execute_result"
    }
   ],
   "source": [
    "photo=cv2.imread(\"photo.jpg\")\n",
    "resize_photo=cv2.resize(photo, (int(photo.shape[1]/4),int(photo.shape[0]/4)))\n",
    "resize_photo.shape"
   ]
  },
  {
   "cell_type": "code",
   "execution_count": 24,
   "metadata": {},
   "outputs": [],
   "source": [
    "resize_photo[:,:,2]=0"
   ]
  },
  {
   "cell_type": "code",
   "execution_count": 25,
   "metadata": {},
   "outputs": [],
   "source": [
    "cv2.imshow(\"hi\",resize_photo)\n",
    "cv2.waitKey(0)\n",
    "cv2.destroyAllWindows()"
   ]
  },
  {
   "cell_type": "markdown",
   "metadata": {},
   "source": [
    "# Crop photo"
   ]
  },
  {
   "cell_type": "code",
   "execution_count": 26,
   "metadata": {},
   "outputs": [
    {
     "data": {
      "text/plain": [
       "(480, 402, 3)"
      ]
     },
     "execution_count": 26,
     "metadata": {},
     "output_type": "execute_result"
    }
   ],
   "source": [
    "photo=cv2.imread(\"photo.jpg\")\n",
    "resize_photo=cv2.resize(photo, (int(photo.shape[1]/4),int(photo.shape[0]/4)))\n",
    "resize_photo.shape"
   ]
  },
  {
   "cell_type": "code",
   "execution_count": 27,
   "metadata": {},
   "outputs": [],
   "source": [
    "newphoto=resize_photo[50:300,10:200]"
   ]
  },
  {
   "cell_type": "code",
   "execution_count": 28,
   "metadata": {},
   "outputs": [],
   "source": [
    "cv2.imshow(\"hi\",newphoto)\n",
    "cv2.waitKey(0)\n",
    "cv2.destroyAllWindows()"
   ]
  },
  {
   "cell_type": "markdown",
   "metadata": {},
   "source": [
    "# Intensity of color"
   ]
  },
  {
   "cell_type": "code",
   "execution_count": 29,
   "metadata": {},
   "outputs": [],
   "source": [
    "photo=cv2.imread(\"photo.jpg\")\n",
    "resize_photo=cv2.resize(photo, (int(photo.shape[1]/4),int(photo.shape[0]/4)))\n",
    "B,G,R=cv2.split(resize_photo)"
   ]
  },
  {
   "cell_type": "code",
   "execution_count": 30,
   "metadata": {},
   "outputs": [
    {
     "data": {
      "text/plain": [
       "array([[141, 145, 144, ..., 213, 215, 217],\n",
       "       [161, 165, 160, ..., 215, 215, 216],\n",
       "       [206, 193, 163, ..., 217, 216, 214],\n",
       "       ...,\n",
       "       [ 65,  68,  74, ..., 146, 124, 135],\n",
       "       [ 71,  68,  67, ..., 148, 141, 127],\n",
       "       [ 70,  63,  62, ..., 147, 141, 108]], dtype=uint8)"
      ]
     },
     "execution_count": 30,
     "metadata": {},
     "output_type": "execute_result"
    }
   ],
   "source": [
    "B"
   ]
  },
  {
   "cell_type": "code",
   "execution_count": 31,
   "metadata": {},
   "outputs": [
    {
     "data": {
      "text/plain": [
       "array([[179, 202, 195, ..., 241, 241, 241],\n",
       "       [200, 216, 218, ..., 240, 240, 240],\n",
       "       [240, 233, 209, ..., 239, 240, 240],\n",
       "       ...,\n",
       "       [ 35,  39,  44, ..., 187, 169, 181],\n",
       "       [ 48,  47,  47, ..., 191, 187, 173],\n",
       "       [ 45,  44,  46, ..., 191, 184, 150]], dtype=uint8)"
      ]
     },
     "execution_count": 31,
     "metadata": {},
     "output_type": "execute_result"
    }
   ],
   "source": [
    "G"
   ]
  },
  {
   "cell_type": "code",
   "execution_count": 32,
   "metadata": {},
   "outputs": [
    {
     "data": {
      "text/plain": [
       "array([[236, 241, 239, ..., 228, 228, 226],\n",
       "       [244, 249, 237, ..., 228, 229, 230],\n",
       "       [234, 242, 252, ..., 226, 229, 230],\n",
       "       ...,\n",
       "       [ 94,  96, 101, ..., 198, 180, 192],\n",
       "       [103, 105, 107, ..., 196, 198, 188],\n",
       "       [111, 109, 108, ..., 192, 192, 167]], dtype=uint8)"
      ]
     },
     "execution_count": 32,
     "metadata": {},
     "output_type": "execute_result"
    }
   ],
   "source": [
    "R"
   ]
  },
  {
   "cell_type": "code",
   "execution_count": 33,
   "metadata": {},
   "outputs": [],
   "source": [
    "R[:,:] -= 30"
   ]
  },
  {
   "cell_type": "code",
   "execution_count": 34,
   "metadata": {},
   "outputs": [],
   "source": [
    "newphoto=cv2.merge([B,G,R])"
   ]
  },
  {
   "cell_type": "code",
   "execution_count": 35,
   "metadata": {},
   "outputs": [],
   "source": [
    "cv2.imshow(\"hi\",newphoto)\n",
    "cv2.waitKey(0)\n",
    "cv2.destroyAllWindows()"
   ]
  },
  {
   "cell_type": "markdown",
   "metadata": {},
   "source": [
    "# Converting image in Blacken white"
   ]
  },
  {
   "cell_type": "code",
   "execution_count": 36,
   "metadata": {},
   "outputs": [],
   "source": [
    "photo=cv2.imread(\"photo.jpg\")\n",
    "resize_photo=cv2.resize(photo, (int(photo.shape[1]/4),int(photo.shape[0]/4)))\n",
    "Gray_image=cv2.cvtColor(resize_photo, cv2.COLOR_BGR2GRAY)"
   ]
  },
  {
   "cell_type": "code",
   "execution_count": 37,
   "metadata": {},
   "outputs": [],
   "source": [
    "cv2.imshow(\"hi\",Gray_image)\n",
    "cv2.waitKey(0)\n",
    "cv2.destroyAllWindows()"
   ]
  },
  {
   "cell_type": "markdown",
   "metadata": {},
   "source": [
    "# Flip image"
   ]
  },
  {
   "cell_type": "code",
   "execution_count": 38,
   "metadata": {},
   "outputs": [],
   "source": [
    "photo=cv2.imread(\"photo.jpg\")\n",
    "resize_photo=cv2.resize(photo, (int(photo.shape[1]/4),int(photo.shape[0]/4)))\n",
    "flip_photo=cv2.flip(resize_photo,1)\n",
    "cv2.imshow(\"hi\",flip_photo)\n",
    "cv2.waitKey(0)\n",
    "cv2.destroyAllWindows()"
   ]
  },
  {
   "cell_type": "code",
   "execution_count": null,
   "metadata": {},
   "outputs": [],
   "source": []
  }
 ],
 "metadata": {
  "kernelspec": {
   "display_name": "Python 3",
   "language": "python",
   "name": "python3"
  },
  "language_info": {
   "codemirror_mode": {
    "name": "ipython",
    "version": 3
   },
   "file_extension": ".py",
   "mimetype": "text/x-python",
   "name": "python",
   "nbconvert_exporter": "python",
   "pygments_lexer": "ipython3",
   "version": "3.7.3"
  }
 },
 "nbformat": 4,
 "nbformat_minor": 4
}
